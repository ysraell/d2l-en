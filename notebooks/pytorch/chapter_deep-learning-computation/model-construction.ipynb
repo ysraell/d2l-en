{
 "cells": [
  {
   "cell_type": "markdown",
   "metadata": {
    "origin_pos": 0
   },
   "source": [
    "# Layers and Blocks\n",
    ":label:`sec_model_construction`\n",
    "\n",
    "When we first introduced neural networks,\n",
    "we focused on linear models with a single output.\n",
    "Here, the entire model consists of just a single neuron.\n",
    "Note that a single neuron\n",
    "(i) takes some set of inputs;\n",
    "(ii) generates a corresponding (*scalar*) output;\n",
    "and (iii) has a set of associated parameters that can be updated \n",
    "to optimize some objective function of interest.\n",
    "Then, once we started thinking about networks with multiple outputs,\n",
    "we leveraged vectorized arithmetic\n",
    "to characterize an entire *layer* of neurons.\n",
    "Just like individual neurons, \n",
    "layers (i) take a set of inputs, \n",
    "(ii) generate corresponding outputs,\n",
    "and (iii) are described by a set of tunable parameters.\n",
    "When we worked through softmax regression,\n",
    "a single *layer* was itself *the model*.\n",
    "However, even when we subsequently \n",
    "introduced multilayer perceptrons,\n",
    "we could still think of the model as \n",
    "retaining this same basic structure.\n",
    "\n",
    "Interestingly, for multilayer perceptrons, \n",
    "both the *entire model* and its *constituent layers* \n",
    "share this structure. \n",
    "The (entire) model takes in raw inputs (the features),\n",
    "generates outputs (the predictions),\n",
    "and possesses parameters \n",
    "(the combined parameters from all constituent layers).\n",
    "Likewise, each individual layer ingests inputs \n",
    "(supplied by the previous layer)\n",
    "generates outputs (the inputs to the subsequent layer),\n",
    "and possesses a set of tunable parameters that are updated\n",
    "according to the signal that flows backwards \n",
    "from the subsequent layer.\n",
    "\n",
    "\n",
    "While you might think that neurons, layers, and models\n",
    "give us enough abstractions to go about our business,\n",
    "it turns out that we often find it convenient\n",
    "to speak about components that are\n",
    "larger than an individual layer\n",
    "but smaller than the entire model.\n",
    "For example, the ResNet-152 architecture,\n",
    "which is wildly popular in computer vision,\n",
    "possesses hundreds of layers.\n",
    "These layers consist of repeating patterns of *groups of layers*. Implementing such a network one layer at a time can grow tedious.\n",
    "This concern is not just hypothetical---such \n",
    "design patterns are common in practice.\n",
    "The ResNet architecture mentioned above\n",
    "won the 2015 ImageNet and COCO computer vision competitions\n",
    "for both recognition and detection :cite:`He.Zhang.Ren.ea.2016`\n",
    "and remains a go-to architecture for many vision tasks.\n",
    "Similar architectures in which layers are arranged \n",
    "in various repeating patterns \n",
    "are now ubiquitous in other domains,\n",
    "including natural language processing and speech.\n",
    "\n",
    "To implement these complex networks,\n",
    "we introduce the concept of a neural network *block*.\n",
    "A block could describe a single layer,\n",
    "a component consisting of multiple layers,\n",
    "or the entire model itself!\n",
    "One benefit of working with the block abstraction \n",
    "is that they can be combined into larger artifacts,\n",
    "often recursively, (see illustration in :numref:`fig_blocks`).\n",
    "\n",
    "![Multiple layers are combined into blocks](../img/blocks.svg)\n",
    ":label:`fig_blocks`\n",
    "\n",
    "By defining code to generate Blocks \n",
    "of arbitrary complexity on demand,\n",
    "we can write surprisingly compact code\n",
    "and still implement complex neural networks.\n"
   ]
  },
  {
   "cell_type": "markdown",
   "metadata": {
    "origin_pos": 2,
    "tab": "pytorch"
   },
   "source": [
    "From a software standpoint, a block is represented by the `Module` class.\n",
    "Any subclass of `Module` must define a `forward` method \n",
    "that transforms its input into output\n",
    "and must store any necessary parameters.\n",
    "Note that some Blocks do not require any parameters at all!\n",
    "Finally a `Module` must possess a `backward` method,\n",
    "for purposes of calculating gradients.\n",
    "Fortunately, due to some behind-the-scenes magic\n",
    "when defining our own `Module`,\n",
    "we only need to worry about parameters\n",
    "and the `forward` function.\n",
    "\n",
    "To begin, we revisit the Blocks \n",
    "that we used to implement multilayer perceptrons\n",
    "(:numref:`sec_mlp_gluon`).\n",
    "The following code generates a network\n",
    "with one fully-connected hidden layer \n",
    "with 256 units and ReLU activation,\n",
    "followed by a fully-connected *output layer*\n",
    "with 10 units (no activation function)."
   ]
  },
  {
   "cell_type": "code",
   "execution_count": 1,
   "metadata": {
    "origin_pos": 4,
    "tab": "pytorch"
   },
   "outputs": [
    {
     "data": {
      "text/plain": [
       "tensor([[-0.1241,  0.3236, -0.1555,  0.0954, -0.1093,  0.4233,  0.1564, -0.0765,\n",
       "         -0.0642,  0.0073],\n",
       "        [ 0.2282,  0.2435, -0.0042,  0.0956,  0.1402,  0.0645,  0.0906,  0.2968,\n",
       "         -0.1695,  0.4455]], grad_fn=<AddmmBackward>)"
      ]
     },
     "execution_count": 1,
     "metadata": {},
     "output_type": "execute_result"
    }
   ],
   "source": [
    "import torch\n",
    "from torch import nn\n",
    "from torch.nn import functional as F\n",
    "\n",
    "\n",
    "x = torch.randn(2,20)\n",
    "net = nn.Sequential(nn.Linear(20, 256), nn.ReLU(), nn.Linear(256, 10))\n",
    "net(x)"
   ]
  },
  {
   "cell_type": "markdown",
   "metadata": {
    "origin_pos": 6,
    "tab": "pytorch"
   },
   "source": [
    "In this example, we constructed\n",
    "our model by instantiating an `nn.Sequential`, with layers in the order\n",
    "that they should be executed passed as arguments.\n",
    "In short, `nn.Sequential` defines a special kind of `Module`\n",
    "that maintains an ordered list of constituent `Modules`.\n",
    "Note that each of the two fully-connected layers is an instance of the `Linear` class\n",
    "which is itself a subclass of `Module`.\n",
    "The `forward` function is also remarkably simple:\n",
    "it chains each Block in the list together,\n",
    "passing the output of each as the input to the next.\n",
    "Note that until now, we have been invoking our models\n",
    "via the construction `net(X)` to obtain their outputs.\n",
    "This is actually just shorthand for `net.forward(X)`,\n",
    "a slick Python trick achieved via \n",
    "the Block class's `__call__` function.\n"
   ]
  },
  {
   "cell_type": "markdown",
   "metadata": {
    "origin_pos": 7
   },
   "source": [
    "\n",
    "## A Custom Block\n",
    "\n",
    "Perhaps the easiest way to develop intuition\n",
    "about how a block works\n",
    "is to implement one ourselves.\n",
    "Before we implement our own custom block,\n",
    "we briefly summarize the basic functionality\n",
    "that each block must provide:\n",
    "\n",
    "1. Ingest input data as arguments to its `forward` method.\n",
    "1. Generate an output by having `forward` return a value. \n",
    "   Note that the output may have a different shape from the input.      For example, the first Dense layer in our model above ingests an      input of arbitrary dimension but returns \n",
    "   an output of dimension 256.\n",
    "1. Calculate the gradient of its output with respect to its input,      which can be accessed via its `backward` method. \n",
    "   Typically this happens automatically.\n",
    "1. Store and provide access to those parameters necessary \n",
    "   to execute the `forward` computation.\n",
    "1. Initialize these parameters as needed.\n",
    "\n",
    "In the following snippet,\n",
    "we code up a block from scratch\n",
    "corresponding to a multilayer perceptron\n",
    "with one hidden layer with 256 hidden nodes, \n",
    "and a 10-dimensional output layer.\n",
    "Note that the `MLP` class below inherits the class represents a block.\n",
    "We will rely heavily on the parent class's methods,\n",
    "supplying only our own `__init__` and `forward` methods."
   ]
  },
  {
   "cell_type": "code",
   "execution_count": 2,
   "metadata": {
    "origin_pos": 9,
    "tab": "pytorch"
   },
   "outputs": [],
   "source": [
    "class MLP(nn.Module):\n",
    "    # Declare a layer with model parameters. Here, we declare two fully\n",
    "    # connected layers\n",
    "    def __init__(self):\n",
    "        # Call the constructor of the MLP parent class Block to perform the\n",
    "        # necessary initialization. In this way, other function parameters can\n",
    "        # also be specified when constructing an instance, such as the model\n",
    "        # parameter, params, described in the following sections\n",
    "        super().__init__()\n",
    "        self.hidden = nn.Linear(20,256)  # Hidden layer\n",
    "        self.output = nn.Linear(256,10)  # Output layer\n",
    "\n",
    "    # Define the forward computation of the model, that is, how to return the\n",
    "    # required model output based on the input x\n",
    "    def forward(self, x):\n",
    "        # Note here we use the funtional version of ReLU defined in the \n",
    "        # nn.functional module.\n",
    "        return self.output(F.relu(self.hidden(x)))"
   ]
  },
  {
   "cell_type": "markdown",
   "metadata": {
    "origin_pos": 10
   },
   "source": [
    "To begin, let us focus on the `forward` method.\n",
    "Note that it takes `x` as input,\n",
    "calculates the hidden representation (`self.hidden(x)`) with the activation function applied,\n",
    "and outputs its logits (`self.output( ... )`).\n",
    "In this MLP implementation,\n",
    "both layers are instance variables.\n",
    "To see why this is reasonable, imagine\n",
    "instantiating two MLPs, `net1` and `net2`,\n",
    "and training them on different data.\n",
    "Naturally, we would expect them\n",
    "to represent two different learned models.\n",
    "\n",
    "We instantiate the MLP's layers\n",
    "in the `__init__` method (the constructor)\n",
    "and subsequently invoke these layers\n",
    "on each call to the `forward` method.\n",
    "Note a few key details.\n",
    "First, our customized `__init__` method \n",
    "invokes the parent class's `__init__` method\n",
    "via `super().__init__()`\n",
    "sparing us the pain of restating\n",
    "boilerplate code applicable to most Blocks.\n",
    "We then instantiate our two fully-connected layers,\n",
    "assigning them to `self.hidden` and `self.output`.\n",
    "Note that unless we implement a new operator,\n",
    "we need not worry about backpropagation (the `backward` method)\n",
    "or parameter initialization.\n",
    "The system will generate these methods automatically.\n",
    "Let us try this out:"
   ]
  },
  {
   "cell_type": "code",
   "execution_count": 3,
   "metadata": {
    "origin_pos": 12,
    "tab": "pytorch"
   },
   "outputs": [
    {
     "data": {
      "text/plain": [
       "tensor([[-0.0988, -0.0790, -0.0316, -0.2006, -0.1350, -0.1115,  0.2461,  0.0611,\n",
       "         -0.0021, -0.0657],\n",
       "        [-0.2293, -0.1507, -0.2310,  0.4210, -0.1981, -0.2867,  0.2022, -0.3967,\n",
       "         -0.0745, -0.4420]], grad_fn=<AddmmBackward>)"
      ]
     },
     "execution_count": 3,
     "metadata": {},
     "output_type": "execute_result"
    }
   ],
   "source": [
    "net = MLP()\n",
    "net(x)"
   ]
  },
  {
   "cell_type": "markdown",
   "metadata": {
    "origin_pos": 13
   },
   "source": [
    "A key virtue of the block abstraction is its versatility.\n",
    "We can subclass the block class to create layers\n",
    "(such as the fully-connected layer class),\n",
    "entire models (such as the `MLP` above),\n",
    "or various components of intermediate complexity.\n",
    "We exploit this versatility\n",
    "throughout the following chapters,\n",
    "especially when addressing \n",
    "convolutional neural networks.\n",
    "\n",
    "\n",
    "## The Sequential Block\n",
    "\n",
    "We can now take a closer look \n",
    "at how the `Sequential` class works.\n",
    "Recall that `Sequential` was designed \n",
    "to daisy-chain other blocks together.\n",
    "To build our own simplified `MySequential`,\n",
    "we just need to define two key methods:\n",
    "1. A method to append blocks one by one to a list.\n",
    "2. A `forward` method to pass an input through the chain of Blocks\n",
    "(in the same order as they were appended).\n",
    "\n",
    "The following `MySequential` class delivers the same \n",
    "functionality the default `Sequential` class:"
   ]
  },
  {
   "cell_type": "code",
   "execution_count": 4,
   "metadata": {
    "origin_pos": 15,
    "tab": "pytorch"
   },
   "outputs": [],
   "source": [
    "class MySequential(nn.Module):\n",
    "    def __init__(self, *args):\n",
    "        super().__init__()\n",
    "        for block in args:\n",
    "            # Here, block is an instance of a Module subclass. We save it in the \n",
    "            # member variable _modules of the Module class, and its type is \n",
    "            # OrderedDict. \n",
    "            self._modules[block] = block\n",
    "        \n",
    "    def forward(self, x):\n",
    "        # OrderedDict guarantees that members will be traversed in the order\n",
    "        # they were added\n",
    "        for block in self._modules.values():\n",
    "            x = block(x)\n",
    "        return x"
   ]
  },
  {
   "cell_type": "markdown",
   "metadata": {
    "origin_pos": 17,
    "tab": "pytorch"
   },
   "source": [
    "In the `__init__` method, we add every Block \n",
    "to the ordered dictionary `_modules` one by one. \n",
    "You might wonder why every `Module` \n",
    "possesses a `_modules` attribute \n",
    "and why we used it rather than just \n",
    "defining a Python list ourselves.\n",
    "In short the chief advantage of `_modules`\n",
    "is that during our block's parameter initialization,\n",
    "the system knows to look in the `_modules`\n",
    "dictionary to find sub-blocks whose \n",
    "parameters also need to be initialized."
   ]
  },
  {
   "cell_type": "markdown",
   "metadata": {
    "origin_pos": 18
   },
   "source": [
    "\n",
    "When our `MySequential`'s `forward` method is invoked,\n",
    "each added block is executed \n",
    "in the order in which they were added.\n",
    "We can now reimplement an MLP \n",
    "using our `MySequential` class."
   ]
  },
  {
   "cell_type": "code",
   "execution_count": 5,
   "metadata": {
    "origin_pos": 20,
    "tab": "pytorch"
   },
   "outputs": [
    {
     "data": {
      "text/plain": [
       "tensor([[-0.0770,  0.0882,  0.0918, -0.1557,  0.2067, -0.0155,  0.2648, -0.0100,\n",
       "         -0.0358,  0.0820],\n",
       "        [-0.4410, -0.0337,  0.2463,  0.4123,  0.3059,  0.1361, -0.0507, -0.4997,\n",
       "         -0.1812, -0.2984]], grad_fn=<AddmmBackward>)"
      ]
     },
     "execution_count": 5,
     "metadata": {},
     "output_type": "execute_result"
    }
   ],
   "source": [
    "net = nn.Sequential(nn.Linear(20, 256), nn.ReLU(), nn.Linear(256, 10))\n",
    "net(x)"
   ]
  },
  {
   "cell_type": "markdown",
   "metadata": {
    "origin_pos": 21
   },
   "source": [
    "Note that this use of `MySequential`\n",
    "is identical to the code we previously wrote \n",
    "for the `nn.Sequential` class \n",
    "(as described in :numref:`sec_mlp_gluon`).\n",
    "\n",
    "\n",
    "## Executing Code in the `forward` Method\n",
    "\n",
    "The `nn.Sequential` class makes model construction easy,\n",
    "allowing us to assemble new architectures\n",
    "without having to define our own class.\n",
    "However, not all architectures are simple daisy chains.\n",
    "When greater flexibility is required,\n",
    "we will want to define our own blocks.\n",
    "For example, we might want to execute \n",
    "Python's control flow within the forward method.\n",
    "Moreover we might want to perform\n",
    "arbitrary mathematical operations,\n",
    "not simply relying on predefined neural network layers.\n",
    "\n",
    "You might have noticed that until now,\n",
    "all of the operations in our networks\n",
    "have acted upon our network's activations\n",
    "and its parameters. \n",
    "Sometimes, however, we might want to \n",
    "incorporate terms \n",
    "that are neither the result of previous layers\n",
    "nor updatable parameters. \n",
    "We call these *constant* parameters. \n",
    "Say for example that we want a layer\n",
    "that calculates the function \n",
    "$f(\\mathbf{x},\\mathbf{w}) = c \\cdot \\mathbf{w}^\\top \\mathbf{x}$,\n",
    "where $\\mathbf{x}$ is the input, $\\mathbf{w}$ is our parameter,\n",
    "and $c$ is some specified constant \n",
    "that is not updated during optimization.\n",
    "\n",
    "Declaring constants explicitly (via `get_constant`)\n",
    "makes this clear and helps Gluon to speed up execution.\n",
    "In the following code, we will implement a model\n",
    "that could not easily be assembled\n",
    "using only predefined layers and `Sequential`."
   ]
  },
  {
   "cell_type": "code",
   "execution_count": 6,
   "metadata": {
    "origin_pos": 23,
    "tab": "pytorch"
   },
   "outputs": [],
   "source": [
    "class FixedHiddenMLP(nn.Module):\n",
    "    def __init__(self):\n",
    "        super().__init__()\n",
    "        # Random weight parameters that will not compute gradients and \n",
    "        # and therefore keep constant during training.\n",
    "        self.rand_weight = torch.rand((20, 20), requires_grad=False)\n",
    "        self.linear = nn.Linear(20, 20)\n",
    "\n",
    "    def forward(self, x):\n",
    "        x = self.linear(x)\n",
    "        # Use the constant parameters created, as well as the relu\n",
    "        # and dot functions\n",
    "        x = F.relu(torch.mm(x, self.rand_weight) + 1)\n",
    "        # Reuse the fully connected layer. This is equivalent to sharing\n",
    "        # parameters with two fully connected layers\n",
    "        x = self.linear(x)\n",
    "        # Here in Control flow, we need to call asscalar to return the scalar\n",
    "        # for comparison\n",
    "        while x.norm().item() > 1:\n",
    "            x /= 2\n",
    "        return x.sum()"
   ]
  },
  {
   "cell_type": "markdown",
   "metadata": {
    "origin_pos": 24
   },
   "source": [
    "In this `FixedHiddenMLP` model,\n",
    "we implement a hidden layer whose weights \n",
    "(`self.rand_weight`) are initialized randomly\n",
    "at instantiation and are thereafter constant. \n",
    "This weight is not a model parameter\n",
    "and thus it is never updated by backpropagation.\n",
    "The network then passes the output of this *fixed* layer\n",
    "through a `Dense` layer. \n",
    "\n",
    "Note that before returning output,\n",
    "our model did something unusual.\n",
    "We ran a `while` loop, testing \n",
    "on the condition `np.abs(x).sum() > 1`,\n",
    "and dividing our output vector by $2$ \n",
    "until it satisfied the condition.\n",
    "Finally, we returned the sum of the entries in `x`.\n",
    "To our knowledge, no standard neural network\n",
    "performs this operation.\n",
    "Note that this particular operation may not be useful\n",
    "in any real world task. \n",
    "Our point is only to show you how to integrate\n",
    "arbitrary code into the flow of your \n",
    "neural network computations."
   ]
  },
  {
   "cell_type": "code",
   "execution_count": 7,
   "metadata": {
    "origin_pos": 26,
    "tab": "pytorch"
   },
   "outputs": [
    {
     "data": {
      "text/plain": [
       "tensor(-0.1186, grad_fn=<SumBackward0>)"
      ]
     },
     "execution_count": 7,
     "metadata": {},
     "output_type": "execute_result"
    }
   ],
   "source": [
    "net = FixedHiddenMLP()\n",
    "net(x)"
   ]
  },
  {
   "cell_type": "markdown",
   "metadata": {
    "origin_pos": 27
   },
   "source": [
    "We can mix and match various \n",
    "ways of assembling blocks together.\n",
    "In the following example, we nest blocks\n",
    "in some creative ways."
   ]
  },
  {
   "cell_type": "code",
   "execution_count": 8,
   "metadata": {
    "origin_pos": 29,
    "tab": "pytorch"
   },
   "outputs": [
    {
     "data": {
      "text/plain": [
       "tensor(-0.6771, grad_fn=<SumBackward0>)"
      ]
     },
     "execution_count": 8,
     "metadata": {},
     "output_type": "execute_result"
    }
   ],
   "source": [
    "class NestMLP(nn.Module):\n",
    "    def __init__(self):\n",
    "        super().__init__()\n",
    "        self.net = nn.Sequential(nn.Linear(20, 64), nn.ReLU(), \n",
    "                                 nn.Linear(64, 32), nn.ReLU())\n",
    "        self.linear = nn.Linear(32, 16)\n",
    "\n",
    "    def forward(self, x):\n",
    "        return self.linear(self.net(x))\n",
    "\n",
    "chimera = nn.Sequential(NestMLP(), nn.Linear(16, 20), FixedHiddenMLP())\n",
    "chimera(x)"
   ]
  },
  {
   "cell_type": "markdown",
   "metadata": {
    "origin_pos": 30
   },
   "source": [
    "## Compilation\n"
   ]
  },
  {
   "cell_type": "markdown",
   "metadata": {
    "origin_pos": 32
   },
   "source": [
    "\n",
    "## Summary\n",
    "\n",
    "* Layers are blocks.\n",
    "* Many layers can comprise a block.\n",
    "* Many blocks can comprise a block.\n",
    "* A block can contain code.\n",
    "* Blocks take care of lots of housekeeping, including parameter initialization and backpropagation.\n",
    "* Sequential concatenations of layers and blocks are handled by the `Sequential` Block.\n",
    "\n",
    "\n",
    "## Exercises\n",
    "\n",
    "1. What kinds of problems will occur if you change `MySequential` to store blocks in a Python list. \n",
    "1. Implement a block that takes two blocks as an argument, say `net1` and `net2` and returns the concatenated output of both networks in the forward pass (this is also called a parallel block).\n",
    "1. Assume that you want to concatenate multiple instances of the same network. Implement a factory function that generates multiple instances of the same block and build a larger network from it.\n"
   ]
  },
  {
   "cell_type": "markdown",
   "metadata": {
    "origin_pos": 34,
    "tab": "pytorch"
   },
   "source": [
    "[Discussions](https://discuss.d2l.ai/t/55)"
   ]
  }
 ],
 "metadata": {
  "language_info": {
   "name": "python"
  }
 },
 "nbformat": 4,
 "nbformat_minor": 4
}