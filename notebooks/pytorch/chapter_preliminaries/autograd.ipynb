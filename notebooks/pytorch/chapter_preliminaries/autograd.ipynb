{
 "cells": [
  {
   "cell_type": "markdown",
   "metadata": {
    "origin_pos": 0
   },
   "source": [
    "# Automatic Differentiation\n",
    ":label:`sec_autograd`\n",
    "\n",
    "As we have explained in :numref:`sec_calculus`,\n",
    "differentiation is a crucial step in nearly all deep learning optimization algorithms.\n",
    "While the calculations for taking these derivatives are straightforward,\n",
    "requiring only some basic calculus,\n",
    "for complex models, working out the updates by hand\n",
    "can be a pain (and often error-prone).\n",
    "\n"
   ]
  },
  {
   "cell_type": "markdown",
   "metadata": {
    "origin_pos": 2,
    "tab": "pytorch"
   },
   "source": [
    "Deep learning frameworks can expedite this work\n",
    "by automatically calculating derivatives, i.e., *automatic differentiation*.\n",
    "And while many other libraries require\n",
    "that we compile a symbolic graph to take automatic derivatives,\n",
    "PyTorch allows us to take derivatives\n",
    "while writing ordinary imperative code.\n",
    "Every time we pass data through our model,\n",
    "they build a graph on the fly,\n",
    "tracking which data combined through\n",
    "which operations to produce the output.\n",
    "This graph enables PyTorch\n",
    "to subsequently backpropagate gradients on command.\n",
    "Here, *backpropagate* simply means to trace through the *computational graph*,\n",
    "filling in the partial derivatives with respect to each parameter."
   ]
  },
  {
   "cell_type": "code",
   "execution_count": 1,
   "metadata": {
    "origin_pos": 4,
    "tab": "pytorch"
   },
   "outputs": [],
   "source": [
    "import torch"
   ]
  },
  {
   "cell_type": "markdown",
   "metadata": {
    "origin_pos": 5
   },
   "source": [
    "## A Simple Example\n",
    "\n",
    "As a toy example, say that we are interested\n",
    "in differentiating the function\n",
    "$y = 2\\mathbf{x}^{\\top}\\mathbf{x}$\n",
    "with respect to the column vector $\\mathbf{x}$.\n",
    "To start, let us create the variable `x` and assign it an initial value."
   ]
  },
  {
   "cell_type": "code",
   "execution_count": 2,
   "metadata": {
    "origin_pos": 7,
    "tab": "pytorch"
   },
   "outputs": [
    {
     "data": {
      "text/plain": [
       "tensor([0., 1., 2., 3.], requires_grad=True)"
      ]
     },
     "execution_count": 2,
     "metadata": {},
     "output_type": "execute_result"
    }
   ],
   "source": [
    "x = torch.arange(4.0, requires_grad=True)\n",
    "x"
   ]
  },
  {
   "cell_type": "markdown",
   "metadata": {
    "origin_pos": 8
   },
   "source": [
    "Note that before we even calculate the gradient\n",
    "of $y$ with respect to $\\mathbf{x}$,\n",
    "we will need a place to store it.\n",
    "It is important that we do not allocate new memory\n",
    "every time we take a derivative with respect to a parameter\n",
    "because we will often update the same parameters\n",
    "thousands or millions of times\n",
    "and could quickly run out of memory.\n",
    "\n",
    "Note also that a gradient of a scalar-valued function\n",
    "with respect to a vector $\\mathbf{x}$\n",
    "is itself vector-valued and has the same shape as $\\mathbf{x}$.\n",
    "Thus it is intuitive that in code,\n",
    "we will access a gradient taken with respect to `x`\n",
    "as an attribute of the tensor `x` itself.\n"
   ]
  },
  {
   "cell_type": "markdown",
   "metadata": {
    "origin_pos": 10,
    "tab": "pytorch"
   },
   "source": [
    "\n",
    "Note the `requires_grad=True` argument when creating `x`, it tells the framework\n",
    "we need allocate gradient space for `x` in the future.\n"
   ]
  },
  {
   "cell_type": "code",
   "execution_count": 3,
   "metadata": {
    "origin_pos": 12,
    "tab": "pytorch"
   },
   "outputs": [],
   "source": [
    "x.grad"
   ]
  },
  {
   "cell_type": "markdown",
   "metadata": {
    "origin_pos": 14,
    "tab": "pytorch"
   },
   "source": [
    "Now let us calculate $y$."
   ]
  },
  {
   "cell_type": "code",
   "execution_count": 4,
   "metadata": {
    "origin_pos": 16,
    "tab": "pytorch"
   },
   "outputs": [
    {
     "data": {
      "text/plain": [
       "tensor(28., grad_fn=<MulBackward0>)"
      ]
     },
     "execution_count": 4,
     "metadata": {},
     "output_type": "execute_result"
    }
   ],
   "source": [
    "y = 2 * torch.dot(x, x)\n",
    "y"
   ]
  },
  {
   "cell_type": "markdown",
   "metadata": {
    "origin_pos": 17
   },
   "source": [
    "Since `x` is a tensor of length 4,\n",
    "the `dot` operator will perform an inner product of `x` and `x`,\n",
    "yielding the scalar output that we assign to `y`.\n",
    "Next, we can automatically calculate the gradient of `y`\n",
    "with respect to each component of `x`\n",
    "by calling `y`'s `backward` function."
   ]
  },
  {
   "cell_type": "code",
   "execution_count": 5,
   "metadata": {
    "origin_pos": 19,
    "tab": "pytorch"
   },
   "outputs": [],
   "source": [
    "y.backward()"
   ]
  },
  {
   "cell_type": "markdown",
   "metadata": {
    "origin_pos": 20
   },
   "source": [
    "If we recheck the value of `x.grad`, we will find its contents overwritten by the newly calculated gradient."
   ]
  },
  {
   "cell_type": "code",
   "execution_count": 6,
   "metadata": {
    "origin_pos": 22,
    "tab": "pytorch"
   },
   "outputs": [
    {
     "data": {
      "text/plain": [
       "tensor([ 0.,  4.,  8., 12.])"
      ]
     },
     "execution_count": 6,
     "metadata": {},
     "output_type": "execute_result"
    }
   ],
   "source": [
    "x.grad"
   ]
  },
  {
   "cell_type": "markdown",
   "metadata": {
    "origin_pos": 23
   },
   "source": [
    "The gradient of the function $y = 2\\mathbf{x}^{\\top}\\mathbf{x}$\n",
    "with respect to $\\mathbf{x}$ should be $4\\mathbf{x}$.\n",
    "Let us quickly verify that our desired gradient was calculated correctly.\n",
    "If the two tensors are indeed the same,\n",
    "then the equality between them holds at every position."
   ]
  },
  {
   "cell_type": "code",
   "execution_count": 7,
   "metadata": {
    "origin_pos": 25,
    "tab": "pytorch"
   },
   "outputs": [
    {
     "data": {
      "text/plain": [
       "tensor([True, True, True, True])"
      ]
     },
     "execution_count": 7,
     "metadata": {},
     "output_type": "execute_result"
    }
   ],
   "source": [
    "x.grad == 4 * x"
   ]
  },
  {
   "cell_type": "markdown",
   "metadata": {
    "origin_pos": 27,
    "tab": "pytorch"
   },
   "source": [
    "\n",
    "If we subsequently compute the gradient of another variable\n",
    "whose value was calculated as a function of `x`, we need to clear the previous\n",
    "values in `x.grad` first, as PyTorch accumulates and adds the gradient in default.\n"
   ]
  },
  {
   "cell_type": "code",
   "execution_count": 8,
   "metadata": {
    "origin_pos": 29,
    "tab": "pytorch"
   },
   "outputs": [
    {
     "data": {
      "text/plain": [
       "tensor([1., 1., 1., 1.])"
      ]
     },
     "execution_count": 8,
     "metadata": {},
     "output_type": "execute_result"
    }
   ],
   "source": [
    "x.grad.zero_()\n",
    "y = x.sum()\n",
    "y.backward()\n",
    "x.grad"
   ]
  },
  {
   "cell_type": "markdown",
   "metadata": {
    "origin_pos": 32
   },
   "source": [
    "## Detaching Computation\n",
    "\n",
    "Sometimes, we wish to move some calculations\n",
    "outside of the recorded computational graph.\n",
    "For example, say that `y` was calculated as a function of `x`,\n",
    "and that subsequently `z` was calculated as a function of both `y` and `x`.\n",
    "Now, imagine that we wanted to calculate\n",
    "the gradient of `z` with respect to `x`,\n",
    "but wanted for some reason to treat `y` as a constant,\n",
    "and only take into account the role\n",
    "that `x` played after `y` was calculated.\n",
    "\n",
    "Here, we can call `u = y.detach()` to return a new variable `u`\n",
    "that has the same value as `y` but discards any information\n",
    "about how `y` was computed in the computational graph.\n",
    "In other words, the gradient will not flow backwards through `u` to `x`.\n",
    "This will provide the same functionality as if we had\n",
    "calculated `u` as a function of `x` outside of the `autograd.record` scope,\n",
    "yielding a `u` that will be treated as a constant in any `backward` call.\n",
    "Thus, the following `backward` function computes\n",
    "the partial derivative of `z = u * x` with respect to `x` while treating `u` as a constant,\n",
    "instead of the partial derivative of `z = x * x * x` with respect to `x`."
   ]
  },
  {
   "cell_type": "code",
   "execution_count": 9,
   "metadata": {
    "origin_pos": 34,
    "tab": "pytorch"
   },
   "outputs": [
    {
     "data": {
      "text/plain": [
       "tensor([True, True, True, True])"
      ]
     },
     "execution_count": 9,
     "metadata": {},
     "output_type": "execute_result"
    }
   ],
   "source": [
    "x.grad.zero_()\n",
    "y = x * x\n",
    "u = y.detach()\n",
    "z = u * x\n",
    "\n",
    "z.sum().backward()\n",
    "x.grad == u"
   ]
  },
  {
   "cell_type": "markdown",
   "metadata": {
    "origin_pos": 35
   },
   "source": [
    "Since the computation of `y` was recorded,\n",
    "we can subsequently call `y.backward()` to get the derivative of `y = x * x` with respect to `x`, which is `2 * x`."
   ]
  },
  {
   "cell_type": "code",
   "execution_count": 10,
   "metadata": {
    "origin_pos": 37,
    "tab": "pytorch"
   },
   "outputs": [
    {
     "data": {
      "text/plain": [
       "tensor([True, True, True, True])"
      ]
     },
     "execution_count": 10,
     "metadata": {},
     "output_type": "execute_result"
    }
   ],
   "source": [
    "x.grad.zero_()\n",
    "y.sum().backward()\n",
    "x.grad == 2 * x"
   ]
  },
  {
   "cell_type": "markdown",
   "metadata": {
    "origin_pos": 38
   },
   "source": [
    "## Computing the Gradient of Python Control Flow\n",
    "\n",
    "One benefit of using automatic differentiation\n",
    "is that even if building the computational graph of a function\n",
    "required passing through a maze of Python control flow\n",
    "(e.g., conditionals, loops, and arbitrary function calls),\n",
    "we can still calculate the gradient of the resulting variable.\n",
    "In the following snippet, note that\n",
    "the number of iterations of the `while` loop\n",
    "and the evaluation of the `if` statement\n",
    "both depend on the value of the input `a`."
   ]
  },
  {
   "cell_type": "code",
   "execution_count": 11,
   "metadata": {
    "origin_pos": 40,
    "tab": "pytorch"
   },
   "outputs": [],
   "source": [
    "def f(a):\n",
    "    b = a * 2\n",
    "    while b.norm().item() < 1000:\n",
    "        b = b * 2\n",
    "    if b.sum().item() > 0:\n",
    "        c = b\n",
    "    else:\n",
    "        c = 100 * b\n",
    "    return c"
   ]
  },
  {
   "cell_type": "markdown",
   "metadata": {
    "origin_pos": 41
   },
   "source": [
    "Again to compute gradients, we just need to `record` the calculation\n",
    "and then call the `backward` function."
   ]
  },
  {
   "cell_type": "code",
   "execution_count": 12,
   "metadata": {
    "origin_pos": 43,
    "tab": "pytorch"
   },
   "outputs": [],
   "source": [
    "a = torch.randn(size=(1,), requires_grad=True)\n",
    "d = f(a)\n",
    "d.backward()"
   ]
  },
  {
   "cell_type": "markdown",
   "metadata": {
    "origin_pos": 44
   },
   "source": [
    "We can now analyze the `f` function defined above.\n",
    "Note that it is piecewise linear in its input `a`.\n",
    "In other words, for any `a` there exists some constant scalar `k`\n",
    "such that `f(a) = k * a`, where the value of `k` depends on the input `a`.\n",
    "Consequently `d / a` allows us to verify that the gradient is correct."
   ]
  },
  {
   "cell_type": "code",
   "execution_count": 13,
   "metadata": {
    "origin_pos": 46,
    "tab": "pytorch"
   },
   "outputs": [
    {
     "data": {
      "text/plain": [
       "tensor([True])"
      ]
     },
     "execution_count": 13,
     "metadata": {},
     "output_type": "execute_result"
    }
   ],
   "source": [
    "a.grad == (d / a)"
   ]
  },
  {
   "cell_type": "markdown",
   "metadata": {
    "origin_pos": 47
   },
   "source": [
    "## Training Mode and Prediction Mode\n",
    "\n",
    "When we get to complicated deep learning models,\n",
    "we will encounter some algorithms where the model\n",
    "behaves differently during training and\n",
    "when we subsequently use it to make predictions.\n"
   ]
  },
  {
   "cell_type": "markdown",
   "metadata": {
    "origin_pos": 49,
    "tab": "pytorch"
   },
   "source": [
    "\n",
    "In PyTorch, we can set `model.train()` or `model.eval()` to distinguish the\n",
    "training mode and prediction mode, which we'll cover in the later sections of\n",
    "the book.\n"
   ]
  },
  {
   "cell_type": "markdown",
   "metadata": {
    "origin_pos": 51
   },
   "source": [
    "## Summary\n",
    "\n",
    "* Deep learning frameworks can automate the calculation of derivatives. To use it, we first attach gradients to those variables with respect to which we desire partial derivatives. We then record the computation of our target value, execute its `backward` function, and access the resulting gradient via our variable's `grad` attribute.\n",
    "* We can detach gradients to control the part of the computation that will be used in the `backward` function.\n",
    "* The running modes include training mode and prediction mode.\n",
    "\n",
    "\n",
    "## Exercises\n",
    "\n",
    "1. Why is the second derivative much more expensive to compute than the first derivative?\n",
    "1. After running `y.backward()`, immediately run it again and see what happens.\n",
    "1. In the control flow example where we calculate the derivative of `d` with respect to `a`, what would happen if we changed the variable `a` to a random vector or matrix. At this point, the result of the calculation `f(a)` is no longer a scalar. What happens to the result? How do we analyze this?\n",
    "1. Redesign an example of finding the gradient of the control flow. Run and analyze the result.\n",
    "1. Let $f(x) = \\sin(x)$. Plot $f(x)$ and $\\frac{df(x)}{dx}$, where the latter is computed without exploiting that $f'(x) = \\cos(x)$.\n"
   ]
  },
  {
   "cell_type": "markdown",
   "metadata": {
    "origin_pos": 53,
    "tab": "pytorch"
   },
   "source": [
    "[Discussions](https://discuss.d2l.ai/t/35)"
   ]
  }
 ],
 "metadata": {
  "language_info": {
   "name": "python"
  }
 },
 "nbformat": 4,
 "nbformat_minor": 4
}