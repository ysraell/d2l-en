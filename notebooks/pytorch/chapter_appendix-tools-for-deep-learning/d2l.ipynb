{
 "cells": [
  {
   "cell_type": "markdown",
   "metadata": {
    "origin_pos": 0
   },
   "source": [
    "# `d2l` API Document\n",
    ":label:`sec_d2l`\n"
   ]
  },
  {
   "cell_type": "markdown",
   "metadata": {
    "origin_pos": 2,
    "tab": "pytorch"
   },
   "source": [
    "\n",
    "```eval_rst\n",
    "\n",
    ".. automodule:: d2l.torch\n",
    "   :members:\n",
    "   :imported-members:\n",
    "\n",
    "```\n",
    "\n"
   ]
  }
 ],
 "metadata": {
  "language_info": {
   "name": "python"
  }
 },
 "nbformat": 4,
 "nbformat_minor": 4
}